{
 "cells": [
  {
   "cell_type": "code",
   "execution_count": 1,
   "id": "31e48b32-da41-489e-bcb4-135c5480ac0a",
   "metadata": {},
   "outputs": [],
   "source": [
    "import Discriminator_SVM\n",
    "\n",
    "model = Discriminator_SVM.build_discriminator()"
   ]
  },
  {
   "cell_type": "code",
   "execution_count": 5,
   "id": "1e5c0044-e483-493e-8c74-76afea945e4a",
   "metadata": {},
   "outputs": [
    {
     "name": "stdout",
     "output_type": "stream",
     "text": [
      "支持向量： [[4.7312e+04 3.0000e+00 5.1800e+02 ... 0.0000e+00 2.0000e+00 3.0000e+00]\n",
      " [4.7950e+04 4.0000e+00 4.9300e+02 ... 0.0000e+00 2.0000e+00 4.0000e+00]\n",
      " [3.8815e+04 3.0000e+00 5.5000e+02 ... 0.0000e+00 2.0000e+00 3.0000e+00]\n",
      " ...\n",
      " [1.4592e+04 3.0000e+00 7.7000e+01 ... 0.0000e+00 1.0000e+00 3.0000e+00]\n",
      " [4.6777e+04 5.0000e+00 8.7000e+01 ... 1.0000e+00 1.0000e+00 4.0000e+00]\n",
      " [2.3502e+04 3.0000e+00 7.7000e+01 ... 0.0000e+00 1.0000e+00 3.0000e+00]]\n",
      "支持向量索引： [   63   105   191   214   371   418   559   599   698   705   748   755\n",
      "   768   769   882   893   976   987   999  1046  1076  1082  1119  1136\n",
      "  1157  1227  1291  1545  1629  1666  1667  1695  1741  1756  1759  1772\n",
      "  1859  1875  1893  1929  1961  1988  2000  2012  2048  2062  2079  2085\n",
      "  2097  2191  2314  2324  2468  2516  2746  2765  2780  2785  2793  2915\n",
      "  3046  3074  3186  3192  3213  3216  3310  3317  3320  3393  3410  3413\n",
      "  3452  3516  3523  3531  3532  3555  3571  3620  3725  3805  3864  3874\n",
      "  3921  3984  3987  4038  4095  4098  4099  4121  4130  4138  4168  4194\n",
      "  4205  4280  4379  4401  4469  4523  4546  4558  4604  4605  4672  4684\n",
      "  4708  4758  4820  4879  4912  4924  4957  4992  5032  5071  5080  5102\n",
      "  5181  5186  5206  5234  5268  5274  5306  5312  5320  5330  5373  5380\n",
      "  5430  5448  5493  5566  5601  5619  5627  5638  5689  5865  5880  5897\n",
      "  5942  5953  5963  6030  6056  6085  6086  6097  6124  6148  6153  6162\n",
      "  6294  6334  6358  6370  6393  6396  6532  6567  6622  6681  6803  6850\n",
      "  6870  6875  6886  7093  7158  7189  7262  7298  7310  7312  7340  7463\n",
      "  7508  7520  7549  7710  7733  7755  7803  7833  7909  7924  7939  7995\n",
      "  7999  8018  8024  8093  8123  8183  8195  8257  8266  8306  8388  8439\n",
      "  8441  8467  8510  8576  8640  8672  8676  8678  8727  8731  8809  8842\n",
      "  8852  8853  8893  8938  8963  8992  9061  9083  9112  9157  9179  9190\n",
      "  9200  9232  9281  9282  9304  9372  9409  9418  9427  9431  9476  9505\n",
      "  9613  9620  9621  9631  9685  9756  9794  9856  9908  9914  9929  9953\n",
      "  9980  9990 10028 10072 10152 10198 10222 10227 10407 10551 10668 10711\n",
      " 10715 10740 10746 10767 10833 10893 10923 10962 10981 11013 11029 11032\n",
      " 11048 11057 11069 11091 11094 11193 11235 11273 11298 11322 11386 11390\n",
      " 11446 11603 11612 11681 11697 11720 11722 11757 11831 11897 11928 11932\n",
      " 11967 11979 12025 12053 12079 12108 12158 12159 12161 12217 12227 12243\n",
      " 12245 12251 12257 12298 12323 12332 12392 12398 12463 12468 12525 12582\n",
      " 12593 12600 12646 12688 12701 12741 12793 12868 12959 12980 13003 13030\n",
      " 13048 13166 13167 13205 13250 13271 13299 13356 13390 13531 13628 13646\n",
      " 13656 13687 13702 13729 13816 13848 13858 13877 13883 14000 14019 14100\n",
      " 14161 14191 14253 14294 14319 14460 14500 14504 14699 14813 14865 14872\n",
      " 14910 14974 15041 15048 15064 15110 15156 15182 15187    11    69   102\n",
      "   129   147   190   306   400   429   452   489   519   604   626   843\n",
      "   875   969   970   973  1067  1122  1168  1225  1226  1255  1263  1269\n",
      "  1372  1381  1384  1430  1454  1510  1565  1580  1639  1697  1729  1782\n",
      "  1795  1808  1824  1955  1977  2004  2011  2036  2063  2069  2077  2086\n",
      "  2221  2267  2284  2330  2384  2408  2429  2462  2472  2481  2506  2522\n",
      "  2579  2669  2706  2742  2763  2777  2794  2864  2867  2881  2916  2930\n",
      "  2942  2973  2977  2983  3064  3068  3069  3091  3126  3199  3244  3251\n",
      "  3258  3261  3264  3276  3300  3308  3309  3312  3324  3351  3354  3357\n",
      "  3370  3373  3406  3433  3500  3512  3541  3543  3551  3604  3636  3691\n",
      "  3701  3719  3779  3818  3834  3885  3900  3931  3997  4086  4150  4162\n",
      "  4166  4204  4250  4270  4364  4367  4369  4404  4414  4427  4461  4484\n",
      "  4590  4599  4635  4639  4670  4699  4716  4718  4720  4779  4781  4806\n",
      "  4808  4809  4870  4889  4895  4927  4972  4994  5070  5154  5187  5225\n",
      "  5256  5307  5343  5385  5419  5421  5450  5564  5633  5672  5696  5737\n",
      "  5744  5765  5830  5888  5902  5914  5932  5952  5967  6042  6146  6177\n",
      "  6182  6219  6297  6302  6333  6377  6401  6503  6569  6596  6644  6657\n",
      "  6667  6702  6741  6788  6793  6833  6835  6881  6972  6984  7036  7100\n",
      "  7224  7342  7395  7433  7498  7574  7637  7661  7692  7712  7765  7770\n",
      "  7789  7843  7884  7917  7948  7968  7979  8015  8085  8086  8105  8215\n",
      "  8230  8250  8251  8252  8284  8332  8364  8415  8428  8457  8481  8606\n",
      "  8753  8760  8802  8835  8862  8889  8989  9006  9011  9040  9045  9093\n",
      "  9120  9219  9250  9277  9297  9407  9575  9591  9733  9777  9808  9867\n",
      "  9876  9879  9995 10009 10212 10226 10231 10272 10301 10331 10372 10401\n",
      " 10405 10485 10506 10590 10594 10633 10745 10757 10829 10911 10918 11015\n",
      " 11123 11137 11189 11237 11405 11439 11492 11519 11555 11588 11639 11641\n",
      " 11736 11808 11833 11858 11895 11901 11947 11988 12012 12069 12119 12130\n",
      " 12133 12208 12214 12246 12349 12430 12552 12650 12682 12711 12721 12725\n",
      " 12730 12762 12821 12834 12946 12968 12985 13089 13145 13151 13190 13231\n",
      " 13238 13239 13241 13256 13258 13261 13315 13364 13366 13368 13376 13377\n",
      " 13455 13482 13598 13620 13708 13749 13765 13791 13836 13842 13865 13871\n",
      " 13923 13988 13999 14026 14030 14086 14165 14225 14235 14266 14277 14326\n",
      " 14349 14356 14361 14401 14488 14497 14539 14565 14573 14578 14643 14694\n",
      " 14848 14972 14976 14983 15094 15139 15162 15174 15180 15214]\n",
      "支持向量索引數量： 778\n"
     ]
    }
   ],
   "source": [
    "# 獲取支持向量\n",
    "support_vectors = model.support_vectors_\n",
    "print(\"支持向量：\", support_vectors)\n",
    "\n",
    "# 獲取支持向量的索引\n",
    "support_indices = model.support_\n",
    "print(\"支持向量索引：\", support_indices)\n",
    "print(\"支持向量索引數量：\", len(support_indices))\n"
   ]
  },
  {
   "cell_type": "code",
   "execution_count": 6,
   "id": "8822d2a5-cda2-47e2-8701-21d382b1d1e8",
   "metadata": {},
   "outputs": [
    {
     "name": "stdout",
     "output_type": "stream",
     "text": [
      "權重向量 w: [-2.36570003e-02 -6.21372154e+01 -2.73023750e+00  9.88284565e-01\n",
      "  4.41225488e-02  0.00000000e+00  2.62783960e+00  1.11133996e+01\n",
      "  2.18291540e+02 -7.58503029e+01]\n",
      "偏置項 b: 689.6671908767074\n"
     ]
    }
   ],
   "source": [
    "w = model.coef_[0]  # 權重向量\n",
    "b = model.intercept_[0]  # 偏置項\n",
    "print(\"權重向量 w:\", w)\n",
    "print(\"偏置項 b:\", b)"
   ]
  },
  {
   "cell_type": "code",
   "execution_count": 7,
   "id": "a3027d89-3dd3-413f-aa3f-37fc5c9ff820",
   "metadata": {},
   "outputs": [
    {
     "name": "stdout",
     "output_type": "stream",
     "text": [
      "邊界寬度: 0.008347522775774012\n"
     ]
    }
   ],
   "source": [
    "import numpy as np\n",
    "w_norm = np.linalg.norm(w)\n",
    "margin = 2 / w_norm\n",
    "print(\"邊界寬度:\", margin)"
   ]
  },
  {
   "cell_type": "code",
   "execution_count": 13,
   "id": "a1509794-69a5-4170-999c-04d66cc57907",
   "metadata": {},
   "outputs": [
    {
     "data": {
      "text/plain": [
       "array([[ 1019,     4,   234, ...,     1,     2,     3],\n",
       "       [31003,    10,   201, ...,     2,     6,     8],\n",
       "       [    0,     2,   255, ...,     0,     2,     2],\n",
       "       ...,\n",
       "       [ 3374,     3,   576, ...,     0,     1,     3],\n",
       "       [49416,    51,    54, ...,     0,     0,     0],\n",
       "       [    0,     2,    88, ...,     0,     1,     2]], dtype=int64)"
      ]
     },
     "execution_count": 13,
     "metadata": {},
     "output_type": "execute_result"
    }
   ],
   "source": [
    "\n",
    "import numpy as np\n",
    "import pandas as pd\n",
    "features=[\n",
    "        'flow duration', 'packet count', 'max pkt_length', 'min pkt_length',\n",
    "           'max iat', 'min iat', 'fin count', 'syn count', 'psh count', \n",
    "           'ack count'\n",
    "           ]\n",
    "def load_data(dataset):\n",
    "    df = pd.read_csv(dataset)\n",
    "    df_selected = df[df['label'] == 1]\n",
    "    df_selected = df_selected.replace([np.inf, -np.inf], np.nan).dropna(axis=0)\n",
    "    df_selected = df_selected.loc[(df_selected != 0).any(axis=1)]\n",
    "    #df_selected = shuffle(df_selected)\n",
    "    X_train = np.array(df_selected[features])\n",
    "    return X_train\n",
    "dataset = load_data(\"dataset_RNN_0120_slowloris.csv\")\n",
    "dataset"
   ]
  },
  {
   "cell_type": "code",
   "execution_count": 52,
   "id": "8a177c45-3973-4bf7-ad49-32fd5e7c26d2",
   "metadata": {},
   "outputs": [
    {
     "data": {
      "text/plain": [
       "array([[ 0,  2, 74, 74,  0,  0,  0,  2,  0,  2]], dtype=int64)"
      ]
     },
     "execution_count": 52,
     "metadata": {},
     "output_type": "execute_result"
    }
   ],
   "source": [
    "X_test = dataset[63:64]\n",
    "X_test"
   ]
  },
  {
   "cell_type": "code",
   "execution_count": 51,
   "id": "054d6bc5-ec25-459a-8bd1-98f211596266",
   "metadata": {},
   "outputs": [
    {
     "name": "stdout",
     "output_type": "stream",
     "text": [
      "決策函數值： [3.73015078]\n",
      "決策函數值： [3.73015078]\n"
     ]
    }
   ],
   "source": [
    "# 對某個數據點計算決策函數值  array([[  0,   2, 254,  66,   0,   0,   0,   0,   1,   2]], dtype=int64)\n",
    "# X_test = np.array([[0, 0, 0, 0, 0, 0, 0, 0, 0, 0]])  # 替換為你的測試數據\n",
    "decision_values = model.decision_function(X_test)\n",
    "print(\"決策函數值：\", decision_values)\n",
    "# 2->3, 254->256, 66->62, 1->0 2->3\n",
    "X_test_modify = np.array([[0,   2, 254,  66,   0,   0,   0,   0,   1,   2]])  # 替換為你的測試數據\n",
    "decision_values = model.decision_function(X_test_modify)\n",
    "print(\"決策函數值：\", decision_values)\n",
    "\n",
    "# X_test = np.array([[0,0,86,64,0,0,10,11,0,12]])  # label 0\n",
    "# decision_values = model.decision_function(X_test)\n",
    "# print(\"決策函數值：\", decision_values)    # 決策函數值： [-243.56086483]\n"
   ]
  },
  {
   "cell_type": "code",
   "execution_count": 75,
   "id": "29ec3591-0cf9-40dc-818d-b25804fdff62",
   "metadata": {},
   "outputs": [
    {
     "name": "stdout",
     "output_type": "stream",
     "text": [
      "決策函數值： [307.01443639]\n",
      "決策函數值： [315.20514889]\n"
     ]
    }
   ],
   "source": [
    "# 對某個數據點計算決策函數值  array([[ 0,  2, 74, 74,  0,  0,  0,  2,  0,  2]], dtype=int64)\n",
    "# X_test = np.array([[0, 0, 0, 0, 0, 0, 0, 0, 0, 0]])  # 替換為你的測試數據\n",
    "decision_values = model.decision_function(X_test)\n",
    "print(\"決策函數值：\", decision_values)\n",
    "# 2->3, 254->256, 66->62, 1->0 2->3\n",
    "X_test_modify = np.array([[0,  2, 71, 74,  0,  0,  0,  2,  0,  2]])  # 替換為你的測試數據\n",
    "decision_values = model.decision_function(X_test_modify)\n",
    "print(\"決策函數值：\", decision_values)"
   ]
  },
  {
   "cell_type": "code",
   "execution_count": 77,
   "id": "0e0866ae-4eac-4c2f-82ea-d75d6f03df87",
   "metadata": {},
   "outputs": [
    {
     "name": "stdout",
     "output_type": "stream",
     "text": [
      "X 形狀: (2, 10)\n",
      "支持向量形狀: (778, 10)\n"
     ]
    },
    {
     "ename": "NameError",
     "evalue": "name 'y' is not defined",
     "output_type": "error",
     "traceback": [
      "\u001b[31m---------------------------------------------------------------------------\u001b[39m",
      "\u001b[31mNameError\u001b[39m                                 Traceback (most recent call last)",
      "\u001b[36mCell\u001b[39m\u001b[36m \u001b[39m\u001b[32mIn[77]\u001b[39m\u001b[32m, line 26\u001b[39m\n\u001b[32m     24\u001b[39m \u001b[38;5;66;03m# 繪圖\u001b[39;00m\n\u001b[32m     25\u001b[39m plt.contourf(xx, yy, Z, alpha=\u001b[32m0.3\u001b[39m, cmap=\u001b[33m'\u001b[39m\u001b[33mcoolwarm\u001b[39m\u001b[33m'\u001b[39m)\n\u001b[32m---> \u001b[39m\u001b[32m26\u001b[39m plt.scatter(X_2d[:, \u001b[32m0\u001b[39m], X_2d[:, \u001b[32m1\u001b[39m], c=\u001b[43my\u001b[49m, edgecolors=\u001b[33m'\u001b[39m\u001b[33mk\u001b[39m\u001b[33m'\u001b[39m, cmap=\u001b[33m'\u001b[39m\u001b[33mcoolwarm\u001b[39m\u001b[33m'\u001b[39m, alpha=\u001b[32m0.6\u001b[39m)\n\u001b[32m     27\u001b[39m plt.scatter(support_vectors_2d[:, \u001b[32m0\u001b[39m], support_vectors_2d[:, \u001b[32m1\u001b[39m], s=\u001b[32m100\u001b[39m, facecolors=\u001b[33m'\u001b[39m\u001b[33mnone\u001b[39m\u001b[33m'\u001b[39m, edgecolors=\u001b[33m'\u001b[39m\u001b[33mk\u001b[39m\u001b[33m'\u001b[39m)\n\u001b[32m     28\u001b[39m plt.xlabel(\u001b[33m'\u001b[39m\u001b[33mPCA Component 1\u001b[39m\u001b[33m'\u001b[39m)\n",
      "\u001b[31mNameError\u001b[39m: name 'y' is not defined"
     ]
    },
    {
     "data": {
      "image/png": "[encoded data removed]",
      "text/plain": [
       "<Figure size 640x480 with 1 Axes>"
      ]
     },
     "metadata": {},
     "output_type": "display_data"
    }
   ],
   "source": [
    "import matplotlib.pyplot as plt\n",
    "from sklearn.decomposition import PCA\n",
    "X = X_train[0:2]\n",
    "print(\"X 形狀:\", X.shape)\n",
    "print(\"支持向量形狀:\", model.support_vectors_.shape)\n",
    "# PCA 降維\n",
    "pca = PCA(n_components=2)\n",
    "X_2d = pca.fit_transform(X)\n",
    "support_vectors_2d = pca.transform(model.support_vectors_)\n",
    "\n",
    "# 網格範圍與步長\n",
    "x_min, x_max = X_2d[:, 0].min() - 1, X_2d[:, 0].max() + 1\n",
    "y_min, y_max = X_2d[:, 1].min() - 1, X_2d[:, 1].max() + 1\n",
    "step = 1.0\n",
    "xx, yy = np.meshgrid(np.arange(x_min, x_max, step),\n",
    "                     np.arange(y_min, y_max, step))\n",
    "\n",
    "# 生成並預測網格點\n",
    "grid_points_2d = np.c_[xx.ravel(), yy.ravel()]  # 形狀 (n_points, 2)\n",
    "grid_points_10d = pca.inverse_transform(grid_points_2d)  # 映射回 10D\n",
    "Z = model.predict(grid_points_10d)\n",
    "Z = Z.reshape(xx.shape)\n",
    "\n",
    "# 繪圖\n",
    "plt.contourf(xx, yy, Z, alpha=0.3, cmap='coolwarm')\n",
    "plt.scatter(X_2d[:, 0], X_2d[:, 1], c=y, edgecolors='k', cmap='coolwarm', alpha=0.6)\n",
    "plt.scatter(support_vectors_2d[:, 0], support_vectors_2d[:, 1], s=100, facecolors='none', edgecolors='k')\n",
    "plt.xlabel('PCA Component 1')\n",
    "plt.ylabel('PCA Component 2')\n",
    "plt.title('SVM Decision Boundary (Projected to 2D via PCA)')\n",
    "plt.savefig(\"Decision_Boundary_Projected_to_2D.png\")\n",
    "plt.show()"
   ]
  },
  {
   "cell_type": "code",
   "execution_count": 33,
   "id": "33062620-20d3-4ab9-bcdc-65ff052db622",
   "metadata": {},
   "outputs": [
    {
     "name": "stdout",
     "output_type": "stream",
     "text": [
      "Z 的唯一值: [0 1]\n"
     ]
    }
   ],
   "source": [
    "print(\"Z 的唯一值:\", np.unique(Z))"
   ]
  },
  {
   "cell_type": "code",
   "execution_count": null,
   "id": "8cc5a73c-b032-44ce-9714-f4012dfa13de",
   "metadata": {},
   "outputs": [],
   "source": [
    "import itertools\n",
    "\n",
    "for feat1, feat2 in itertools.combinations(range(X.shape[1]), 2):\n",
    "    mean_values = np.mean(X_train, axis=0)\n",
    "    x_min, x_max = X_train[:, feat1].min() - 1, X_train[:, feat1].max() + 1\n",
    "    y_min, y_max = X_train[:, feat2].min() - 1, X_train[:, feat2].max() + 1\n",
    "    step = 0.1\n",
    "    xx, yy = np.meshgrid(np.arange(x_min, x_max, step),\n",
    "                         np.arange(y_min, y_max, step))\n",
    "    \n",
    "    n_points = xx.ravel().shape[0]\n",
    "    grid_points = np.zeros((n_points, X.shape[1]))\n",
    "    grid_points[:, feat1] = xx.ravel()\n",
    "    grid_points[:, feat2] = yy.ravel()\n",
    "    for i in range(X.shape[1]):\n",
    "        if i != feat1 and i != feat2:\n",
    "            grid_points[:, i] = mean_values[i]\n",
    "    \n",
    "    Z = model.predict(grid_points)\n",
    "    Z = Z.reshape(xx.shape)\n",
    "    \n",
    "    plt.figure()\n",
    "    plt.contourf(xx, yy, Z, alpha=0.3, cmap='coolwarm')\n",
    "    plt.scatter(X[:, feat1], X[:, feat2], c=y, edgecolors='k', cmap='coolwarm', alpha=0.6)\n",
    "    plt.scatter(model.support_vectors_[:, feat1], model.support_vectors_[:, feat2], \n",
    "                s=100, facecolors='none', edgecolors='k')\n",
    "    plt.xlabel(f'Feature {feat1}')\n",
    "    plt.ylabel(f'Feature {feat2}')\n",
    "    plt.title(f'SVM Decision Boundary (Features {feat1} vs {feat2})')\n",
    "    plt.show()"
   ]
  },
  {
   "cell_type": "code",
   "execution_count": 1,
   "id": "15cd451b-95c4-4080-9160-2805af729bf2",
   "metadata": {},
   "outputs": [],
   "source": [
    "import pandas as pd\n",
    "import numpy as np\n",
    "# RNN\n",
    "features=[\n",
    "'fin count', 'syn count', 'psh count', 'ack count',\n",
    "   'rst count', 'urg count', 'proto', 'packet count', 'pkt_length', \n",
    "   'min pkt_length', 'max pkt_length', 'flow duration', 'min iat',\n",
    "   'max iat'\n",
    "   ]\n",
    "def find_min_max(dataset):\n",
    "    df = pd.read_csv(dataset)\n",
    "    df = df.replace([np.inf, -np.inf], np.nan).dropna(axis=0)\n",
    "    df = df.loc[(df != 0).any(axis=1)]\n",
    "\n",
    "    df_1 = df[df['label'] == 1]\n",
    "    df_selected = df_1[features]\n",
    "    \n",
    "    max_values = df_selected.max()\n",
    "    min_values = df_selected.min()\n",
    "    \n",
    "    print(f'df_label_1: {df_selected.shape[0]}')\n",
    "    print(f'\\nmax_values:\\n {max_values}')\n",
    "    print(max_values.tolist())\n",
    "    print(f'\\nmin_values:\\n {min_values}')\n",
    "    print(min_values.tolist())\n",
    "\n",
    "    print(\"------------------------------\")\n",
    "\n",
    "    df_0 = df[df['label'] == 0]\n",
    "    df_selected = df_0[features]\n",
    "    \n",
    "    max_values = df_selected.max()\n",
    "    min_values = df_selected.min()\n",
    "    \n",
    "    print(f'df_label_0: {df_selected.shape[0]}')\n",
    "    print(f'\\nmax_values:\\n {max_values}')\n",
    "    print(max_values.tolist())\n",
    "    print(f'\\nmin_values:\\n {min_values}')\n",
    "    print(min_values.tolist())\n",
    "    \n",
    "# correalation\n",
    "\n",
    "def cal_correlation(dataset):\n",
    "    df = pd.read_csv(dataset)\n",
    "    df = df.replace([np.inf, -np.inf], np.nan).dropna(axis=0)\n",
    "    df = df.loc[(df != 0).any(axis=1)]\n",
    "    correlation = df[features + [\"label\"]].corr()  # 直接計算相關矩陣\n",
    "    print(\"correlation with label:\")\n",
    "    print(correlation[\"label\"])"
   ]
  },
  {
   "cell_type": "code",
   "execution_count": 2,
   "id": "1c218ee7",
   "metadata": {},
   "outputs": [
    {
     "name": "stdout",
     "output_type": "stream",
     "text": [
      "df_label_1: 9513\n",
      "\n",
      "max_values:\n",
      " fin count             2.0\n",
      "syn count             4.0\n",
      "psh count             8.0\n",
      "ack count            12.0\n",
      "rst count             8.0\n",
      "urg count            12.0\n",
      "proto                17.0\n",
      "packet count         16.0\n",
      "pkt_length         1843.0\n",
      "min pkt_length      590.0\n",
      "max pkt_length      640.0\n",
      "flow duration     49962.0\n",
      "min iat               0.0\n",
      "max iat           49962.0\n",
      "dtype: float64\n",
      "[2.0, 4.0, 8.0, 12.0, 8.0, 12.0, 17.0, 16.0, 1843.0, 590.0, 640.0, 49962.0, 0.0, 49962.0]\n",
      "\n",
      "min_values:\n",
      " fin count          0.0\n",
      "syn count          0.0\n",
      "psh count          0.0\n",
      "ack count          0.0\n",
      "rst count          0.0\n",
      "urg count          0.0\n",
      "proto              2.0\n",
      "packet count       2.0\n",
      "pkt_length         0.0\n",
      "min pkt_length    54.0\n",
      "max pkt_length    60.0\n",
      "flow duration      0.0\n",
      "min iat            0.0\n",
      "max iat            0.0\n",
      "dtype: float64\n",
      "[0.0, 0.0, 0.0, 0.0, 0.0, 0.0, 2.0, 2.0, 0.0, 54.0, 60.0, 0.0, 0.0, 0.0]\n",
      "------------------------------\n",
      "df_label_0: 12549\n",
      "\n",
      "max_values:\n",
      " fin count             2.0\n",
      "syn count             2.0\n",
      "psh count            24.0\n",
      "ack count            49.0\n",
      "rst count            24.0\n",
      "urg count            48.0\n",
      "proto                17.0\n",
      "packet count         49.0\n",
      "pkt_length        53017.0\n",
      "min pkt_length     1514.0\n",
      "max pkt_length     1514.0\n",
      "flow duration     49991.0\n",
      "min iat               0.0\n",
      "max iat           49829.0\n",
      "dtype: float64\n",
      "[2.0, 2.0, 24.0, 49.0, 24.0, 48.0, 17.0, 49.0, 53017.0, 1514.0, 1514.0, 49991.0, 0.0, 49829.0]\n",
      "\n",
      "min_values:\n",
      " fin count          0.0\n",
      "syn count          0.0\n",
      "psh count          0.0\n",
      "ack count          0.0\n",
      "rst count          0.0\n",
      "urg count          0.0\n",
      "proto              6.0\n",
      "packet count       0.0\n",
      "pkt_length         0.0\n",
      "min pkt_length    60.0\n",
      "max pkt_length    60.0\n",
      "flow duration      0.0\n",
      "min iat            0.0\n",
      "max iat            0.0\n",
      "dtype: float64\n",
      "[0.0, 0.0, 0.0, 0.0, 0.0, 0.0, 6.0, 0.0, 0.0, 60.0, 60.0, 0.0, 0.0, 0.0]\n"
     ]
    }
   ],
   "source": [
    "find_min_max(\"dataset_slowloris_normal_0225.csv\")"
   ]
  },
  {
   "cell_type": "code",
   "execution_count": 3,
   "id": "6d319284",
   "metadata": {},
   "outputs": [
    {
     "name": "stdout",
     "output_type": "stream",
     "text": [
      "correlation with label:\n",
      "fin count        -0.121640\n",
      "syn count         0.386084\n",
      "psh count         0.020186\n",
      "ack count        -0.542685\n",
      "rst count         0.120491\n",
      "urg count        -0.538999\n",
      "proto            -0.029206\n",
      "packet count     -0.533808\n",
      "pkt_length       -0.271016\n",
      "min pkt_length    0.017484\n",
      "max pkt_length   -0.631719\n",
      "flow duration    -0.381588\n",
      "min iat                NaN\n",
      "max iat          -0.160687\n",
      "label             1.000000\n",
      "Name: label, dtype: float64\n"
     ]
    }
   ],
   "source": [
    "cal_correlation(\"dataset_slowloris_normal_0225.csv\")"
   ]
  },
  {
   "cell_type": "code",
   "execution_count": null,
   "id": "0b748048",
   "metadata": {},
   "outputs": [],
   "source": []
  }
 ],
 "metadata": {
  "kernelspec": {
   "display_name": "Python 3 (ipykernel)",
   "language": "python",
   "name": "python3"
  },
  "language_info": {
   "codemirror_mode": {
    "name": "ipython",
    "version": 3
   },
   "file_extension": ".py",
   "mimetype": "text/x-python",
   "name": "python",
   "nbconvert_exporter": "python",
   "pygments_lexer": "ipython3",
   "version": "3.11.5"
  }
 },
 "nbformat": 4,
 "nbformat_minor": 5
}
