{
 "cells": [
  {
   "cell_type": "code",
   "execution_count": 2,
   "id": "aa522fb0",
   "metadata": {},
   "outputs": [
    {
     "name": "stderr",
     "output_type": "stream",
     "text": [
      "C:\\ProgramData\\anaconda3\\Lib\\site-packages\\sklearn\\base.py:347: InconsistentVersionWarning: Trying to unpickle estimator SVC from version 1.4.2 when using version 1.3.0. This might lead to breaking code or invalid results. Use at your own risk. For more info please refer to:\n",
      "https://scikit-learn.org/stable/model_persistence.html#security-maintainability-limitations\n",
      "  warnings.warn(\n"
     ]
    }
   ],
   "source": [
    "import AdvGAN_Target_Model\n",
    "\n",
    "model = AdvGAN_Target_Model.build_discriminator()"
   ]
  },
  {
   "cell_type": "code",
   "execution_count": 4,
   "id": "b9cf9151",
   "metadata": {},
   "outputs": [],
   "source": [
    "import numpy as np\n",
    "import pandas as pd"
   ]
  },
  {
   "cell_type": "code",
   "execution_count": 33,
   "id": "59d75661",
   "metadata": {},
   "outputs": [
    {
     "name": "stdout",
     "output_type": "stream",
     "text": [
      "決策函數值： [0]\n"
     ]
    }
   ],
   "source": [
    "\n",
    "X_test_modify = np.array([[3600,7,60,54,3600,0,0,0,0,7]])  # 替換為你的測試數據\n",
    "decision_values = model.predict(X_test_modify)\n",
    "print(\"決策函數值：\", decision_values)"
   ]
  },
  {
   "cell_type": "code",
   "execution_count": 28,
   "id": "4a3f6e77",
   "metadata": {},
   "outputs": [
    {
     "name": "stdout",
     "output_type": "stream",
     "text": [
      "決策函數值： [0]\n"
     ]
    }
   ],
   "source": [
    "\n",
    "X_test_modify = np.array([[2700,14,60,54 ,9,0,0,2,0,12 ]])  # 替換為你的測試數據\n",
    "decision_values = model.predict(X_test_modify)\n",
    "print(\"決策函數值：\", decision_values)"
   ]
  },
  {
   "cell_type": "code",
   "execution_count": 26,
   "id": "9564cab7",
   "metadata": {},
   "outputs": [
    {
     "name": "stdout",
     "output_type": "stream",
     "text": [
      "決策函數值： [0]\n"
     ]
    }
   ],
   "source": [
    "\n",
    "X_test_modify = np.array([[2400,6,60,54,1,0,0,2,0,6]])  # 替換為你的測試數據\n",
    "decision_values = model.predict(X_test_modify)\n",
    "print(\"決策函數值：\", decision_values)"
   ]
  },
  {
   "cell_type": "code",
   "execution_count": 24,
   "id": "fa5b4a4a",
   "metadata": {},
   "outputs": [
    {
     "name": "stdout",
     "output_type": "stream",
     "text": [
      "決策函數值： [0]\n"
     ]
    }
   ],
   "source": [
    "\n",
    "X_test_modify = np.array([[18,7,60,54,10,0,2,0,0,6]])  # 替換為你的測試數據\n",
    "decision_values = model.predict(X_test_modify)\n",
    "print(\"決策函數值：\", decision_values)"
   ]
  },
  {
   "cell_type": "code",
   "execution_count": 21,
   "id": "70e3dbc7",
   "metadata": {},
   "outputs": [
    {
     "name": "stdout",
     "output_type": "stream",
     "text": [
      "決策函數值： [0]\n"
     ]
    }
   ],
   "source": [
    "\n",
    "X_test_modify = np.array([[2354,6,87,67,1668,0,1,0,0,3]])  # 替換為你的測試數據\n",
    "decision_values = model.predict(X_test_modify)\n",
    "print(\"決策函數值：\", decision_values)"
   ]
  },
  {
   "cell_type": "code",
   "execution_count": 12,
   "id": "af4dc620",
   "metadata": {},
   "outputs": [
    {
     "name": "stdout",
     "output_type": "stream",
     "text": [
      "決策函數值： [0]\n"
     ]
    }
   ],
   "source": [
    "\n",
    "X_test_modify = np.array([[1091,7,60,54,1091,0,0,0,0,6]])  # 替換為你的測試數據\n",
    "decision_values = model.predict(X_test_modify)\n",
    "print(\"決策函數值：\", decision_values)"
   ]
  },
  {
   "cell_type": "code",
   "execution_count": null,
   "id": "c67924e3",
   "metadata": {},
   "outputs": [],
   "source": []
  }
 ],
 "metadata": {
  "kernelspec": {
   "display_name": "Python 3 (ipykernel)",
   "language": "python",
   "name": "python3"
  },
  "language_info": {
   "codemirror_mode": {
    "name": "ipython",
    "version": 3
   },
   "file_extension": ".py",
   "mimetype": "text/x-python",
   "name": "python",
   "nbconvert_exporter": "python",
   "pygments_lexer": "ipython3",
   "version": "3.11.5"
  }
 },
 "nbformat": 4,
 "nbformat_minor": 5
}
