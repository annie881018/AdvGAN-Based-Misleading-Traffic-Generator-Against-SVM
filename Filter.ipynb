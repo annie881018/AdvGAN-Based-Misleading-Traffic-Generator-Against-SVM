{
 "cells": [
  {
   "cell_type": "code",
   "execution_count": 28,
   "id": "fd493aa0",
   "metadata": {},
   "outputs": [
    {
     "name": "stdout",
     "output_type": "stream",
     "text": [
      "result\\0424\n"
     ]
    }
   ],
   "source": [
    "import os\n",
    "import pandas as pd\n",
    "date = \"0424\"\n",
    "folder = os.path.join(\"result\", date)\n",
    "print(folder)"
   ]
  },
  {
   "cell_type": "code",
   "execution_count": 29,
   "id": "8b29c59d",
   "metadata": {},
   "outputs": [],
   "source": [
    "def filtering(df):\n",
    "    # max iat > min iat\n",
    "    df_filtered = df[df['max iat'] >= df['min iat']]\n",
    "    # min iat 全為0\n",
    "    df_filtered = df_filtered[df_filtered['min iat'] == 0]\n",
    "    # max pkt len > min pkt len\n",
    "    df_filtered = df_filtered[df_filtered['max pkt_length'] >=  df_filtered['min pkt_length']]\n",
    "    # pkt count > 0\n",
    "    df_filtered = df_filtered[df_filtered['packet count'] > 0]\n",
    "    \n",
    "    return df_filtered"
   ]
  },
  {
   "cell_type": "code",
   "execution_count": 30,
   "id": "8f10933f",
   "metadata": {},
   "outputs": [],
   "source": [
    "features=[\n",
    "                'flow duration', 'packet count', 'max pkt_length', 'min pkt_length',\n",
    "                'max iat', 'min iat', 'fin count', 'syn count', 'psh count', \n",
    "                'ack count', \"predict\", \"loss\", \"gen_loss\", \"bd_loss\", \"weight_l0\"\n",
    "                ]"
   ]
  },
  {
   "cell_type": "code",
   "execution_count": 34,
   "id": "9d0ee888",
   "metadata": {},
   "outputs": [
    {
     "name": "stdout",
     "output_type": "stream",
     "text": [
      "Filtering data_11_label_0.csv ---------------------------------\n",
      "origin number of data: 490\n",
      "filered number of data: 490\n",
      "Filtering data_12_label_0.csv ---------------------------------\n",
      "origin number of data: 272\n",
      "filered number of data: 272\n",
      "Filtering data_13_label_0.csv ---------------------------------\n",
      "origin number of data: 419\n",
      "filered number of data: 419\n",
      "Filtering data_14_label_0.csv ---------------------------------\n",
      "origin number of data: 382\n",
      "filered number of data: 0\n",
      "Filtering data_15_label_0.csv ---------------------------------\n",
      "origin number of data: 1703\n",
      "filered number of data: 1703\n",
      "Filtering data_16_label_0.csv ---------------------------------\n",
      "origin number of data: 645\n",
      "filered number of data: 0\n",
      "Filtering data_1_label_0.csv ---------------------------------\n",
      "origin number of data: 1923\n",
      "filered number of data: 0\n",
      "Filtering data_2_label_0.csv ---------------------------------\n",
      "origin number of data: 1489\n",
      "filered number of data: 1489\n",
      "Filtering data_3_label_0.csv ---------------------------------\n",
      "origin number of data: 1779\n",
      "filered number of data: 1779\n",
      "Filtering data_8_label_0.csv ---------------------------------\n",
      "origin number of data: 17611\n",
      "filered number of data: 2147\n",
      "Filtering data_9_label_0.csv ---------------------------------\n",
      "origin number of data: 36553\n",
      "filered number of data: 36553\n"
     ]
    }
   ],
   "source": [
    "for file in os.listdir(folder):\n",
    "    if file.endswith(\"label_0.csv\"):\n",
    "        file_path = os.path.join(folder, file)\n",
    "        df = pd.read_csv(file_path, header=None, names=features)\n",
    "        print(f'Filtering {file} ---------------------------------')\n",
    "        print(f'origin number of data: {len(df)}')\n",
    "#         print(df)\n",
    "        df_filtered = filtering(df)\n",
    "        print(f'filered number of data: {len(df_filtered)}')\n",
    "        output_dir = os.path.join(folder, 'filtered_data')\n",
    "        os.makedirs(output_dir, exist_ok=True)\n",
    "        output_path = os.path.join(output_dir, f'filtered_{file}')\n",
    "        df_filtered.to_csv(output_path, mode='w', header=features, index=False, encoding=\"utf-8\")"
   ]
  },
  {
   "cell_type": "code",
   "execution_count": null,
   "id": "14b64ebd",
   "metadata": {},
   "outputs": [],
   "source": []
  }
 ],
 "metadata": {
  "kernelspec": {
   "display_name": "Python 3 (ipykernel)",
   "language": "python",
   "name": "python3"
  },
  "language_info": {
   "codemirror_mode": {
    "name": "ipython",
    "version": 3
   },
   "file_extension": ".py",
   "mimetype": "text/x-python",
   "name": "python",
   "nbconvert_exporter": "python",
   "pygments_lexer": "ipython3",
   "version": "3.11.5"
  }
 },
 "nbformat": 4,
 "nbformat_minor": 5
}
